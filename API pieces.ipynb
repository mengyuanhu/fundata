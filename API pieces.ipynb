{
 "cells": [
  {
   "cell_type": "code",
   "execution_count": 1,
   "metadata": {},
   "outputs": [],
   "source": [
    "from mysql.sqlConnect import sqlConnection,sqlDisconnection,sqlSelect, sqlInsert, columnName"
   ]
  },
  {
   "cell_type": "code",
   "execution_count": 16,
   "metadata": {},
   "outputs": [
    {
     "name": "stdout",
     "output_type": "stream",
     "text": [
      "success: effect row: 3\n",
      "success: effect row: 5\n",
      "106863163\n",
      "Lu Yao 路垚\n",
      "SoMnus丶M\n",
      "CN\n",
      "2\n",
      "101695162\n",
      "Xu Linsen 徐林森\n",
      "FY\n",
      "CN\n",
      "4\n",
      "131043881\n",
      "Xiao Zuoyi\n",
      "RAI\n",
      "CN\n",
      "4\n"
     ]
    }
   ],
   "source": [
    "cur=sqlConnection()\n",
    "data=sqlSelect(\"SELECT * FROM player WHERE name<>%s limit 3\",\"x\")\n",
    "column=columnName(\"player\")\n",
    "res={\"data\":data,\"column\":column}\n",
    "\n",
    "for val_i in data:\n",
    "    for val_j in val_i:\n",
    "        print(val_j)\n",
    "        \n",
    "\n",
    "#sqlDisconnection()"
   ]
  },
  {
   "cell_type": "code",
   "execution_count": 1,
   "metadata": {},
   "outputs": [
    {
     "ename": "SyntaxError",
     "evalue": "invalid syntax (<ipython-input-1-aed1063c71a5>, line 1)",
     "output_type": "error",
     "traceback": [
      "\u001b[1;36m  File \u001b[1;32m\"<ipython-input-1-aed1063c71a5>\"\u001b[1;36m, line \u001b[1;32m1\u001b[0m\n\u001b[1;33m    insert into match(barracks_status_dire,barracks_status_radiant,cluster,dire_score,duration,engine,first_blood_time,flags,game_mode,human_players,league_id,lobby_type,match_id,match_seq_num,negative_votes,positive_votes,pre_game_duration,radiant_score,radiant_win,start_time,tower_status_dire,tower_status_radiant,season,skill) values (%s,%s,%s,%s,%s,%s,%s,%s,%s,%s,%s,%s,%s,%s,%s,%s,%s,%s,%s,%s,%s,%s,%s,%s)\u001b[0m\n\u001b[1;37m              ^\u001b[0m\n\u001b[1;31mSyntaxError\u001b[0m\u001b[1;31m:\u001b[0m invalid syntax\n"
     ]
    }
   ],
   "source": [
    "\n"
   ]
  },
  {
   "cell_type": "code",
   "execution_count": 7,
   "metadata": {},
   "outputs": [
    {
     "name": "stdout",
     "output_type": "stream",
     "text": [
      "success: effect row: 3\n",
      "插入数据\n",
      "3\n",
      "close success\n"
     ]
    }
   ],
   "source": [
    "from mysql.sqlConnect import sqlConnection,sqlDisconnection,sqlInsert\n",
    "from mysql.dataHandler import api_transfer_sql,sqlColumn\n",
    "##写入MySQL\n",
    "cur=sqlConnection()\n",
    "\n",
    "    #插入数据\n",
    "sql=\"\"\"\n",
    "'insert into match(barracks_status_dire,barracks_status_radiant,cluster,dire_score,duration,engine,first_blood_time,flags,game_mode,human_players,league_id,lobby_type,match_id,match_seq_num,negative_votes,positive_votes,pre_game_duration,radiant_score,radiant_win,start_time,tower_status_dire,tower_status_radiant,season,skill) \n",
    "values (%s,%s,%s,%s,%s,%s,%s,%s,%s,%s,%s,%s,%s,%s,%s,%s,%s,%s,%s,%s,%s,%s,%s,%s)'\n",
    "\"\"\"\n",
    "\n",
    "param=\"\"\"\n",
    "\"\"\"\n",
    "\n",
    "\n",
    "row=sqlInsert(sql,param)\n",
    "print(\"插入数据\")\n",
    "print(row)\n",
    "    \n",
    "    #关闭数据库\n",
    "sqlDisconnection()"
   ]
  },
  {
   "cell_type": "code",
   "execution_count": 21,
   "metadata": {},
   "outputs": [
    {
     "data": {
      "text/plain": [
       "1577808000"
      ]
     },
     "execution_count": 21,
     "metadata": {},
     "output_type": "execute_result"
    }
   ],
   "source": [
    "import time\n",
    "\n",
    "int(time.mktime(time.strptime(\"2020-1-1 00:00:00\", \"%Y-%m-%d %H:%M:%S\")))"
   ]
  },
  {
   "cell_type": "code",
   "execution_count": 12,
   "metadata": {},
   "outputs": [
    {
     "data": {
      "text/plain": [
       "'as'"
      ]
     },
     "execution_count": 12,
     "metadata": {},
     "output_type": "execute_result"
    }
   ],
   "source": [
    "\"asd\"[:-1]"
   ]
  }
 ],
 "metadata": {
  "kernelspec": {
   "display_name": "Python 3",
   "language": "python",
   "name": "python3"
  },
  "language_info": {
   "codemirror_mode": {
    "name": "ipython",
    "version": 3
   },
   "file_extension": ".py",
   "mimetype": "text/x-python",
   "name": "python",
   "nbconvert_exporter": "python",
   "pygments_lexer": "ipython3",
   "version": "3.7.7"
  }
 },
 "nbformat": 4,
 "nbformat_minor": 4
}
