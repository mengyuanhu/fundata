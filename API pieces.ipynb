{
 "cells": [
  {
   "cell_type": "code",
   "execution_count": 21,
   "metadata": {},
   "outputs": [
    {
     "name": "stdout",
     "output_type": "stream",
     "text": [
      "CREATE TABLE IF NOT EXISTS test (barracks_status_dire varchar(20),barracks_status_radiant varchar(20),cluster varchar(20),dire_score varchar(20),duration varchar(20),engine varchar(20),first_blood_time varchar(20),flags varchar(20),game_mode varchar(20),human_players varchar(20),league_id varchar(20),lobby_type varchar(20),match_id varchar(20),match_seq_num varchar(20),negative_votes varchar(20),positive_votes varchar(20),pre_game_duration varchar(20),radiant_score varchar(20),radiant_win varchar(20),start_time varchar(20),tower_status_dire varchar(20),tower_status_radiant varchar(20),season varchar(20),skill varchar(20)) ENGINE = InnoDB CHARACTER SET = utf8\n"
     ]
    }
   ],
   "source": [
    "from fundata.client import init_api_client\n",
    "from fundata.dota2.match import get_batch_basic_info, get_single_basic_info\n",
    "from mysql.dataHandler import *\n",
    "\n",
    "    #初始化\n",
    "init_api_client()\n",
    "\n",
    "    #查询选手信息\n",
    "res=get_batch_basic_info(1577808000,5177754392,2)\n",
    "\n",
    "\n",
    "table_name=\"test\"\n",
    "sql=\"CREATE TABLE IF NOT EXISTS %s (\"%(table_name)\n",
    "\n",
    "str_key=\"\"\n",
    "for key, value in res[\"data\"][0].items():#遍历第[0]号数据的每一个键\n",
    "    str_key+=\"%s varchar(20),\"%(key)\n",
    "str_key=str_key[:-1]\n",
    "\n",
    "sql+=str_key+\") ENGINE = InnoDB CHARACTER SET = utf8\"\n",
    "\n",
    "print(sql)\n"
   ]
  },
  {
   "cell_type": "code",
   "execution_count": 12,
   "metadata": {},
   "outputs": [
    {
     "data": {
      "text/plain": [
       "'as'"
      ]
     },
     "execution_count": 12,
     "metadata": {},
     "output_type": "execute_result"
    }
   ],
   "source": [
    "\"asd\"[:-1]"
   ]
  }
 ],
 "metadata": {
  "kernelspec": {
   "display_name": "Python 3",
   "language": "python",
   "name": "python3"
  },
  "language_info": {
   "codemirror_mode": {
    "name": "ipython",
    "version": 3
   },
   "file_extension": ".py",
   "mimetype": "text/x-python",
   "name": "python",
   "nbconvert_exporter": "python",
   "pygments_lexer": "ipython3",
   "version": "3.7.7"
  }
 },
 "nbformat": 4,
 "nbformat_minor": 4
}
