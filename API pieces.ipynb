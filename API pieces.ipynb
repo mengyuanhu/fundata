{
 "cells": [
  {
   "cell_type": "code",
   "execution_count": 4,
   "metadata": {},
   "outputs": [
    {
     "name": "stdout",
     "output_type": "stream",
     "text": [
      "2.查询选手信息\n",
      "{'retcode': 200, 'data': {'id': 318371533, 'real_name': 'Skill lay???', 'name': 'Skill lay???', 'nation': 'CN', 'position': 1}}\n"
     ]
    }
   ],
   "source": [
    "from fundata.client import init_api_client\n",
    "from fundata.dota2.raw.raw import *\n",
    "from fundata.dota2.league.player import *\n",
    "from fundata.dota2.league.team import *\n",
    "\n",
    "init_api_client()\n",
    "    \n",
    "\n",
    "    \n",
    "res=get_single_player(318371533)\n",
    "print(\"2.查询选手信息\")\n",
    "print(res)"
   ]
  },
  {
   "cell_type": "code",
   "execution_count": null,
   "metadata": {},
   "outputs": [],
   "source": [
    "from mysql.sqlConnect import sqlConnection,sqlDisconnection,sqlInsert,createTable\n",
    "from mysql.dataHandler import api_transfer_sql,sqlColumn\n",
    "def testApiSql():\n",
    "    ##从API拿数据\n",
    "    init_api_client()\n",
    "    res_a=get_single_player(318371533)\n",
    "    \n",
    "    ##写入MySQL\n",
    "    sqlConnection()\n",
    "    \n",
    "    #建表\n",
    "    createTable(\"player_test\",res_a,True)\n",
    "    \n",
    "    #将API返回结果，转化成参数\n",
    "    param=api_transfer_sql(res_a)\n",
    "    #插入数据\n",
    "    str=sqlColumn(res_a)\n",
    "    sql=\"insert into player_test(\"+str[\"key\"]+\") values (\"+str[\"s\"]+\")\"\n",
    "    print (sql)\n",
    "    row=sqlInsert(sql,param)\n",
    "    print(\"插入数据\")\n",
    "    print(row)\n",
    "    \n",
    "    #关闭数据库\n",
    "    sqlDisconnection()"
   ]
  }
 ],
 "metadata": {
  "kernelspec": {
   "display_name": "Python 3",
   "language": "python",
   "name": "python3"
  },
  "language_info": {
   "codemirror_mode": {
    "name": "ipython",
    "version": 3
   },
   "file_extension": ".py",
   "mimetype": "text/x-python",
   "name": "python",
   "nbconvert_exporter": "python",
   "pygments_lexer": "ipython3",
   "version": "3.7.7"
  }
 },
 "nbformat": 4,
 "nbformat_minor": 4
}
