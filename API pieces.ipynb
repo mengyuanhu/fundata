{
 "cells": [
  {
   "cell_type": "code",
   "execution_count": 1,
   "metadata": {},
   "outputs": [],
   "source": [
    "from mysql.sqlConnect import sqlConnection,sqlDisconnection,sqlSelect, sqlInsert, columnName"
   ]
  },
  {
   "cell_type": "code",
   "execution_count": 16,
   "metadata": {},
   "outputs": [
    {
     "name": "stdout",
     "output_type": "stream",
     "text": [
      "success: effect row: 3\n",
      "success: effect row: 5\n",
      "106863163\n",
      "Lu Yao 路垚\n",
      "SoMnus丶M\n",
      "CN\n",
      "2\n",
      "101695162\n",
      "Xu Linsen 徐林森\n",
      "FY\n",
      "CN\n",
      "4\n",
      "131043881\n",
      "Xiao Zuoyi\n",
      "RAI\n",
      "CN\n",
      "4\n"
     ]
    }
   ],
   "source": [
    "cur=sqlConnection()\n",
    "data=sqlSelect(\"SELECT * FROM player WHERE name<>%s limit 3\",\"x\")\n",
    "column=columnName(\"player\")\n",
    "res={\"data\":data,\"column\":column}\n",
    "\n",
    "for val_i in data:\n",
    "    for val_j in val_i:\n",
    "        print(val_j)\n",
    "        \n",
    "\n",
    "#sqlDisconnection()"
   ]
  },
  {
   "cell_type": "code",
   "execution_count": null,
   "metadata": {},
   "outputs": [],
   "source": []
  },
  {
   "cell_type": "code",
   "execution_count": 10,
   "metadata": {},
   "outputs": [
    {
     "name": "stdout",
     "output_type": "stream",
     "text": [
      "success: effect row: 5\n",
      "id\n",
      "real_name\n",
      "name\n",
      "nation\n",
      "position\n"
     ]
    }
   ],
   "source": [
    "column=columnName(\"player\")\n",
    "\n",
    "for value in column:\n",
    "    print (value[0])"
   ]
  },
  {
   "cell_type": "code",
   "execution_count": null,
   "metadata": {},
   "outputs": [],
   "source": []
  }
 ],
 "metadata": {
  "kernelspec": {
   "display_name": "Python 3",
   "language": "python",
   "name": "python3"
  },
  "language_info": {
   "codemirror_mode": {
    "name": "ipython",
    "version": 3
   },
   "file_extension": ".py",
   "mimetype": "text/x-python",
   "name": "python",
   "nbconvert_exporter": "python",
   "pygments_lexer": "ipython3",
   "version": "3.7.7"
  }
 },
 "nbformat": 4,
 "nbformat_minor": 4
}
