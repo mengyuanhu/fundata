{
 "cells": [
  {
   "cell_type": "markdown",
   "metadata": {},
   "source": [
    "# 此文件用于单元测试，以及展示函数用法"
   ]
  },
  {
   "cell_type": "markdown",
   "metadata": {},
   "source": [
    "## 使用API获取fundata数据"
   ]
  },
  {
   "cell_type": "markdown",
   "metadata": {},
   "source": [
    "### API基础信息"
   ]
  },
  {
   "cell_type": "code",
   "execution_count": 55,
   "metadata": {},
   "outputs": [],
   "source": [
    "from fundata.client import init_api_client\n",
    "from fundata.dota2.raw.raw import *\n",
    "from fundata.dota2.league.player import *\n",
    "from fundata.dota2.league.team import *\n",
    "def testApiBasic():\n",
    "    #初始化\n",
    "    init_api_client()\n",
    "    \n",
    "    #查询选手信息\n",
    "    res=get_batch_player(0,5)\n",
    "    print(\"1.查询选手信息\")\n",
    "    print(res)\n",
    "    \n",
    "    #查询选手信息\n",
    "    res=get_single_player(101695162)\n",
    "    print(\"2.查询选手信息\")\n",
    "    print(res)\n",
    "    \n",
    "    #查询战队信息\n",
    "    res=get_batch_team(0,5)\n",
    "    print(\"3.查询战队信息\")\n",
    "    print(res)\n",
    "        \n",
    "    #查询战队信息\n",
    "    res=get_single_team(7422511)\n",
    "    print(\"4.查询战队信息\")\n",
    "    print(res)\n",
    "    \n",
    "    #查询英雄信息\n",
    "    res=get_hero()\n",
    "    print(\"5.查询英雄信息\")\n",
    "    print(res)\n",
    "     \n",
    "    #查询道具信息\n",
    "    res=get_item()\n",
    "    print(\"6.查询道具信息\")\n",
    "    print(res)\n",
    "    "
   ]
  },
  {
   "cell_type": "markdown",
   "metadata": {},
   "source": [
    "### API赛事信息"
   ]
  },
  {
   "cell_type": "code",
   "execution_count": 56,
   "metadata": {},
   "outputs": [],
   "source": [
    "from fundata.client import init_api_client\n",
    "from fundata.dota2.league.league import *\n",
    "\n",
    "def testApiLeague():\n",
    "    #初始化\n",
    "    init_api_client()\n",
    "    \n",
    "    #查询赛事列表\n",
    "    res=get_league_list(1,2)\n",
    "    print(\"1.查询赛事列表\")\n",
    "    print(res)\n",
    "        \n",
    "    #查询赛事详情\n",
    "    res=get_league_detail(\"D001842\")\n",
    "    print(\"2.查询赛事详情\")\n",
    "    print(res)\n",
    "    \n",
    "    #联赛队伍列表\n",
    "    res=get_league_team_list(\"D001842\")\n",
    "    print(\"3.联赛队伍列表\")\n",
    "    print(res)\n",
    "    "
   ]
  },
  {
   "cell_type": "markdown",
   "metadata": {},
   "source": [
    "### API单场赛前"
   ]
  },
  {
   "cell_type": "code",
   "execution_count": 57,
   "metadata": {},
   "outputs": [],
   "source": [
    "from fundata.client import init_api_client\n",
    "from fundata.dota2.match.match import *\n",
    "def testApiMatch():\n",
    "    #初始化\n",
    "    init_api_client()\n",
    "        \n",
    "    #批量获取比赛基本数据\n",
    "    res=get_batch_basic_info(1577808000,5177754392,2)\n",
    "    print(\"1.批量获取比赛基本数据\")\n",
    "    print(res)\n",
    "    \n",
    "    #批量比赛ban-picks信息\n",
    "    res=get_batch_ban_pick(1577808000,5177754392,2)\n",
    "    print(\"2.批量比赛ban-picks信息\")\n",
    "    print(res)\n",
    "    \n",
    "    #批量比赛选手数据\n",
    "    res=get_batch_match_player(1577808000,5177754392,2)\n",
    "    print(\"3.批量比赛选手数据\")\n",
    "    print(res)\n",
    "    \n",
    "    #批量比赛选手技能加点\n",
    "    res=get_batch_ability_upgrades(1577808000,5177754392,2)\n",
    "    print(\"4.批量比赛选手技能加点\")\n",
    "    print(res)"
   ]
  },
  {
   "cell_type": "markdown",
   "metadata": {},
   "source": [
    "### API单场赛后"
   ]
  },
  {
   "cell_type": "code",
   "execution_count": 58,
   "metadata": {},
   "outputs": [],
   "source": [
    "from fundata.client import init_api_client\n",
    "from fundata.dota2.match.match import *\n",
    "def testApiMatch_After():\n",
    "    #初始化\n",
    "    init_api_client()\n",
    "        \n",
    "    #获取比赛基本数据\n",
    "    res=get_single_basic_info(5177754380)\n",
    "    print(\"1.获取比赛基本数据\")\n",
    "    print(res)\n",
    "    \n",
    "    #比赛ban-picks信息\n",
    "    res=get_single_ban_picks(5177754806)\n",
    "    print(\"2.比赛ban-picks信息\")\n",
    "    print(res)\n",
    "    \n",
    "    #获取比赛的基本信息+队员信息+ban/pick信息+队员技能升级信息+队伍信息\n",
    "    res=get_single_general_info(5177754806)\n",
    "    print(\"3.获取比赛的基本信息+队员信息+ban/pick信息+队员技能升级信息+队伍信息\")\n",
    "    print(res)\n",
    "    \n",
    "    #比赛选手技能加点\n",
    "    res=get_single_ability_upgrades(5177754806)\n",
    "    print(\"4.比赛选手技能加点\")\n",
    "    print(res)"
   ]
  },
  {
   "cell_type": "markdown",
   "metadata": {},
   "source": [
    "## 写MySQL"
   ]
  },
  {
   "cell_type": "code",
   "execution_count": 60,
   "metadata": {},
   "outputs": [],
   "source": [
    "from mysql.sqlConnect import sqlConnection,sqlDisconnection,sqlInsert,createTable\n",
    "from mysql.dataHandler import api_transfer_sql,sqlColumn\n",
    "def testApiSql():\n",
    "    ##从API拿数据\n",
    "    init_api_client()\n",
    "    res_a=get_batch_player(0,5)\n",
    "    \n",
    "    ##写入MySQL\n",
    "    cur=sqlConnection()\n",
    "    \n",
    "    #建表\n",
    "    createTable(\"player_test\",res_a,True)\n",
    "    \n",
    "    #将API返回结果，转化成参数\n",
    "    param=api_transfer_sql(res_a)\n",
    "    #插入数据\n",
    "    str=sqlColumn(res_a)\n",
    "    sql=\"insert into player_test(\"+str[\"key\"]+\") values (\"+str[\"s\"]+\")\"\n",
    "    print (sql)\n",
    "    row=sqlInsert(sql,param)\n",
    "    print(\"插入数据\")\n",
    "    print(row)\n",
    "    \n",
    "    #关闭数据库\n",
    "    sqlDisconnection()"
   ]
  },
  {
   "cell_type": "markdown",
   "metadata": {},
   "source": [
    "## 用Web页面展示数据"
   ]
  },
  {
   "cell_type": "code",
   "execution_count": 61,
   "metadata": {},
   "outputs": [],
   "source": [
    "from gui.webPage import generate_web_page\n",
    "def testGui():\n",
    "    #展示API数据\n",
    "    init_api_client()\n",
    "    res=get_batch_player(0,40)\n",
    "    generate_web_page(\"testApi.html\",\"运动员数据\",\"api\", res)\n",
    "    print(res)\n",
    "    \n",
    "    #展示Sql数据\n",
    "    cur=sqlConnection()\n",
    "    data=sqlSelect(\"SELECT * FROM player WHERE nation=%s and position=%s limit 5\",[\"CN\",2])\n",
    "    column=columnName(\"player\")\n",
    "    res={\"data\":data,\"column\":column}\n",
    "    generate_web_page(\"testSql.html\",\"运动员数据\",\"sql\", res)"
   ]
  },
  {
   "cell_type": "markdown",
   "metadata": {},
   "source": [
    "## 读MySQL"
   ]
  },
  {
   "cell_type": "code",
   "execution_count": 62,
   "metadata": {},
   "outputs": [],
   "source": [
    "from mysql.sqlConnect import sqlConnection,sqlDisconnection,sqlSelect,columnName\n",
    "def testSql():\n",
    "    #初始化数据库\n",
    "    cur=sqlConnection()\n",
    "    \n",
    "    #查询列名\n",
    "    res=columnName(\"player\")\n",
    "    print(\"查询列名\")\n",
    "    print(res)\n",
    "    \n",
    "    #查询数据\n",
    "    #res=sqlSelect(\"SELECT * FROM player WHERE nation=%s and position=%s limit 5\",[\"CN\",2])\n",
    "    res=sqlSelect(\"SELECT count(*) FROM information_schema.TABLES WHERE table_name=%s\",\"player\")\n",
    "    print(\"查询数据=\")\n",
    "    print(res)\n",
    "    \n",
    "    #关闭数据库\n",
    "    sqlDisconnection()"
   ]
  },
  {
   "cell_type": "markdown",
   "metadata": {},
   "source": [
    "## 当需要获取的数据量较大时（超过API上限），分批获取并且插入数据库"
   ]
  },
  {
   "cell_type": "markdown",
   "metadata": {},
   "source": [
    "测试到10,000的数据量"
   ]
  },
  {
   "cell_type": "code",
   "execution_count": 63,
   "metadata": {},
   "outputs": [],
   "source": [
    "from sync.syncTrans import sync_match\n",
    "#sync_match(\"2020-1-1 00:00:00\",10000)"
   ]
  },
  {
   "cell_type": "code",
   "execution_count": 64,
   "metadata": {},
   "outputs": [
    {
     "name": "stdout",
     "output_type": "stream",
     "text": [
      "1.获取比赛基本数据\n",
      "{'retcode': 200, 'data': {'barracks_status_dire': 3, 'barracks_status_radiant': 63, 'cluster': 135, 'dire_score': 24, 'duration': 1139, 'engine': 1, 'first_blood_time': 75, 'flags': 1, 'game_mode': 23, 'human_players': 10, 'league_id': 0, 'lobby_type': 0, 'match_id': 5177754380, 'match_seq_num': 4344742873, 'negative_votes': 0, 'positive_votes': 0, 'pre_game_duration': 60, 'radiant_score': 38, 'radiant_win': True, 'start_time': 1577808001, 'tower_status_dire': 6, 'tower_status_radiant': 1982, 'season': '', 'skill': 2}}\n",
      "2.比赛ban-picks信息\n",
      "{'retcode': 200, 'data': [{'is_pick': False, 'hero_id': 30, 'team': 0, 'order': 0}, {'is_pick': False, 'hero_id': 41, 'team': 0, 'order': 1}, {'is_pick': False, 'hero_id': 34, 'team': 0, 'order': 2}, {'is_pick': False, 'hero_id': 105, 'team': 0, 'order': 3}, {'is_pick': False, 'hero_id': 21, 'team': 0, 'order': 4}]}\n",
      "3.获取比赛的基本信息+队员信息+ban/pick信息+队员技能升级信息+队伍信息\n",
      "{'retcode': 200, 'data': {'match_id': 5177754806, 'match_seq_num': 4344755550, 'cluster': 188, 'first_blood_time': 138, 'lobby_type': 0, 'human_players': 10, 'leagueid': 0, 'positive_votes': 0, 'negative_votes': 0, 'game_mode': 23, 'flags': 1, 'engine': 1, 'radiant_win': False, 'duration': 1859, 'pre_game_duration': 60, 'start_time': 1577808000, 'tower_status_radiant': 0, 'tower_status_dire': 1830, 'barracks_status_radiant': 0, 'barracks_status_dire': 63, 'radiant_score': 31, 'dire_score': 52, 'radiant_team_id': 0, 'dire_team_id': 0, 'radiant_logo': 0, 'dire_logo': 0, 'radiant_name': '', 'dire_name': '', 'radiant_team_complete': 0, 'dire_team_complete': 0, 'radiant_captain': 0, 'dire_captain': 0, 'players': [{'account_id': 4294967295, 'player_slot': 0, 'hero_id': 99, 'item_0': 235, 'item_1': 242, 'item_2': 137, 'item_3': 48, 'item_4': 88, 'item_5': 116, 'backpack_0': 0, 'backpack_1': 0, 'backpack_2': 0, 'kills': 2, 'deaths': 13, 'assists': 7, 'leaver_status': 0, 'last_hits': 131, 'denies': 3, 'gold_per_min': 730, 'xp_per_min': 1232, 'level': 27, 'hero_damage': 32305, 'tower_damage': 724, 'hero_healing': 0, 'gold': 754, 'gold_spent': 22750, 'scaled_hero_damage': 14250, 'scaled_tower_damage': 450, 'scaled_hero_healing': 0, 'ability_upgrades': [{'ability': 5549, 'level': 0}, {'ability': 5550, 'level': 1}, {'ability': 5549, 'level': 2}, {'ability': 5550, 'level': 3}, {'ability': 5549, 'level': 4}, {'ability': 5551, 'level': 5}, {'ability': 5549, 'level': 6}, {'ability': 5550, 'level': 7}, {'ability': 5550, 'level': 8}, {'ability': 5918, 'level': 9}, {'ability': 5548, 'level': 10}, {'ability': 5551, 'level': 11}, {'ability': 5548, 'level': 12}, {'ability': 5548, 'level': 13}, {'ability': 6083, 'level': 14}, {'ability': 5548, 'level': 15}, {'ability': 5551, 'level': 16}, {'ability': 6308, 'level': 17}, {'ability': 6550, 'level': 18}]}, {'account_id': 160403523, 'player_slot': 1, 'hero_id': 70, 'item_0': 116, 'item_1': 208, 'item_2': 1, 'item_3': 26, 'item_4': 40, 'item_5': 50, 'backpack_0': 0, 'backpack_1': 0, 'backpack_2': 0, 'kills': 8, 'deaths': 13, 'assists': 3, 'leaver_status': 0, 'last_hits': 67, 'denies': 1, 'gold_per_min': 722, 'xp_per_min': 1349, 'level': 29, 'hero_damage': 19825, 'tower_damage': 0, 'hero_healing': 0, 'gold': 2637, 'gold_spent': 17130, 'scaled_hero_damage': 9023, 'scaled_tower_damage': 0, 'scaled_hero_healing': 0, 'ability_upgrades': [{'ability': 5359, 'level': 0}, {'ability': 5358, 'level': 1}, {'ability': 5359, 'level': 2}, {'ability': 5358, 'level': 3}, {'ability': 5359, 'level': 4}, {'ability': 5360, 'level': 5}, {'ability': 5359, 'level': 6}, {'ability': 5358, 'level': 7}, {'ability': 5357, 'level': 8}, {'ability': 5358, 'level': 9}, {'ability': 5961, 'level': 10}, {'ability': 5360, 'level': 11}, {'ability': 5357, 'level': 12}, {'ability': 5357, 'level': 13}, {'ability': 6975, 'level': 14}, {'ability': 5357, 'level': 15}, {'ability': 5360, 'level': 16}, {'ability': 6132, 'level': 17}, {'ability': 7133, 'level': 18}]}, {'account_id': 4294967295, 'player_slot': 2, 'hero_id': 93, 'item_0': 208, 'item_1': 116, 'item_2': 249, 'item_3': 63, 'item_4': 309, 'item_5': 98, 'backpack_0': 0, 'backpack_1': 0, 'backpack_2': 359, 'kills': 4, 'deaths': 11, 'assists': 7, 'leaver_status': 0, 'last_hits': 143, 'denies': 18, 'gold_per_min': 745, 'xp_per_min': 1483, 'level': 28, 'hero_damage': 19692, 'tower_damage': 0, 'hero_healing': 0, 'gold': 254, 'gold_spent': 24255, 'scaled_hero_damage': 10666, 'scaled_tower_damage': 0, 'scaled_hero_healing': 0, 'ability_upgrades': [{'ability': 5496, 'level': 0}, {'ability': 5495, 'level': 1}, {'ability': 5496, 'level': 2}, {'ability': 5494, 'level': 3}, {'ability': 5494, 'level': 4}, {'ability': 5497, 'level': 5}, {'ability': 5494, 'level': 6}, {'ability': 5494, 'level': 7}, {'ability': 5495, 'level': 8}, {'ability': 5495, 'level': 9}, {'ability': 7384, 'level': 10}, {'ability': 5497, 'level': 11}, {'ability': 5495, 'level': 12}, {'ability': 5496, 'level': 13}, {'ability': 6078, 'level': 14}, {'ability': 5496, 'level': 15}, {'ability': 5497, 'level': 16}, {'ability': 6147, 'level': 17}, {'ability': 6893, 'level': 18}]}, {'account_id': 4294967295, 'player_slot': 3, 'hero_id': 59, 'item_0': 116, 'item_1': 50, 'item_2': 156, 'item_3': 210, 'item_4': 151, 'item_5': 210, 'backpack_0': 331, 'backpack_1': 0, 'backpack_2': 0, 'kills': 11, 'deaths': 7, 'assists': 6, 'leaver_status': 0, 'last_hits': 101, 'denies': 9, 'gold_per_min': 773, 'xp_per_min': 1483, 'level': 30, 'hero_damage': 42645, 'tower_damage': 1739, 'hero_healing': 0, 'gold': 3159, 'gold_spent': 21520, 'scaled_hero_damage': 20523, 'scaled_tower_damage': 1122, 'scaled_hero_healing': 0, 'ability_upgrades': [{'ability': 5272, 'level': 0}, {'ability': 5273, 'level': 1}, {'ability': 5272, 'level': 2}, {'ability': 7300, 'level': 3}, {'ability': 5273, 'level': 4}, {'ability': 5273, 'level': 5}, {'ability': 5273, 'level': 6}, {'ability': 5272, 'level': 7}, {'ability': 5274, 'level': 8}, {'ability': 5938, 'level': 9}, {'ability': 5272, 'level': 10}, {'ability': 7300, 'level': 11}, {'ability': 5274, 'level': 12}, {'ability': 6078, 'level': 13}, {'ability': 7300, 'level': 14}, {'ability': 7300, 'level': 15}, {'ability': 5274, 'level': 16}, {'ability': 6080, 'level': 17}, {'ability': 7143, 'level': 18}, {'ability': 6405, 'level': 19}, {'ability': 6380, 'level': 20}, {'ability': 6204, 'level': 21}, {'ability': 6186, 'level': 22}]}, {'account_id': 1042998757, 'player_slot': 4, 'hero_id': 74, 'item_0': 63, 'item_1': 116, 'item_2': 96, 'item_3': 267, 'item_4': 108, 'item_5': 0, 'backpack_0': 39, 'backpack_1': 0, 'backpack_2': 38, 'kills': 6, 'deaths': 8, 'assists': 10, 'leaver_status': 0, 'last_hits': 59, 'denies': 2, 'gold_per_min': 806, 'xp_per_min': 1250, 'level': 29, 'hero_damage': 26047, 'tower_damage': 0, 'hero_healing': 0, 'gold': 1983, 'gold_spent': 20485, 'scaled_hero_damage': 9852, 'scaled_tower_damage': 0, 'scaled_hero_healing': 0, 'ability_upgrades': [{'ability': 5370, 'level': 0}, {'ability': 5372, 'level': 1}, {'ability': 5371, 'level': 2}, {'ability': 5370, 'level': 3}, {'ability': 5372, 'level': 4}, {'ability': 5371, 'level': 5}, {'ability': 5371, 'level': 6}, {'ability': 5372, 'level': 7}, {'ability': 5372, 'level': 8}, {'ability': 5371, 'level': 9}, {'ability': 5371, 'level': 10}, {'ability': 6811, 'level': 11}, {'ability': 5370, 'level': 12}, {'ability': 5371, 'level': 13}, {'ability': 7148, 'level': 14}, {'ability': 5372, 'level': 15}, {'ability': 5372, 'level': 16}, {'ability': 5372, 'level': 17}, {'ability': 6657, 'level': 18}, {'ability': 5370, 'level': 19}, {'ability': 5371, 'level': 20}, {'ability': 5370, 'level': 21}, {'ability': 5370, 'level': 22}, {'ability': 5370, 'level': 23}, {'ability': 6098, 'level': 24}]}, {'account_id': 976581128, 'player_slot': 5, 'hero_id': 4, 'item_0': 156, 'item_1': 249, 'item_2': 116, 'item_3': 100, 'item_4': 135, 'item_5': 63, 'backpack_0': 289, 'backpack_1': 0, 'backpack_2': 0, 'kills': 12, 'deaths': 6, 'assists': 16, 'leaver_status': 0, 'last_hits': 121, 'denies': 3, 'gold_per_min': 1015, 'xp_per_min': 1667, 'level': 30, 'hero_damage': 35795, 'tower_damage': 7675, 'hero_healing': 883, 'gold': 6926, 'gold_spent': 26075, 'scaled_hero_damage': 15391, 'scaled_tower_damage': 4301, 'scaled_hero_healing': 390, 'ability_upgrades': [{'ability': 5017, 'level': 0}, {'ability': 5015, 'level': 1}, {'ability': 5016, 'level': 2}, {'ability': 5017, 'level': 3}, {'ability': 5017, 'level': 4}, {'ability': 5018, 'level': 5}, {'ability': 5017, 'level': 6}, {'ability': 5016, 'level': 7}, {'ability': 5016, 'level': 8}, {'ability': 5016, 'level': 9}, {'ability': 5018, 'level': 10}, {'ability': 6016, 'level': 11}, {'ability': 5015, 'level': 12}, {'ability': 5015, 'level': 13}, {'ability': 6311, 'level': 14}, {'ability': 5015, 'level': 15}, {'ability': 5018, 'level': 16}, {'ability': 6357, 'level': 17}, {'ability': 6809, 'level': 18}, {'ability': 5933, 'level': 19}, {'ability': 6356, 'level': 20}, {'ability': 6111, 'level': 21}, {'ability': 6230, 'level': 22}]}, {'account_id': 190429625, 'player_slot': 6, 'hero_id': 49, 'item_0': 143, 'item_1': 112, 'item_2': 63, 'item_3': 250, 'item_4': 158, 'item_5': 137, 'backpack_0': 0, 'backpack_1': 0, 'backpack_2': 0, 'kills': 4, 'deaths': 4, 'assists': 29, 'leaver_status': 0, 'last_hits': 126, 'denies': 2, 'gold_per_min': 1016, 'xp_per_min': 1439, 'level': 30, 'hero_damage': 44218, 'tower_damage': 9155, 'hero_healing': 0, 'gold': 3336, 'gold_spent': 29745, 'scaled_hero_damage': 15854, 'scaled_tower_damage': 5273, 'scaled_hero_healing': 0, 'ability_upgrades': [{'ability': 5228, 'level': 0}, {'ability': 5226, 'level': 1}, {'ability': 5228, 'level': 2}, {'ability': 5226, 'level': 3}, {'ability': 5226, 'level': 4}, {'ability': 5228, 'level': 5}, {'ability': 5228, 'level': 6}, {'ability': 5226, 'level': 7}, {'ability': 5229, 'level': 8}, {'ability': 7113, 'level': 9}, {'ability': 5227, 'level': 10}, {'ability': 5229, 'level': 11}, {'ability': 5227, 'level': 12}, {'ability': 5227, 'level': 13}, {'ability': 5976, 'level': 14}, {'ability': 5227, 'level': 15}, {'ability': 5229, 'level': 16}, {'ability': 5952, 'level': 17}, {'ability': 6090, 'level': 18}, {'ability': 6160, 'level': 19}, {'ability': 5939, 'level': 20}, {'ability': 5984, 'level': 21}, {'ability': 6635, 'level': 22}]}, {'account_id': 4294967295, 'player_slot': 7, 'hero_id': 32, 'item_0': 141, 'item_1': 139, 'item_2': 50, 'item_3': 174, 'item_4': 208, 'item_5': 30, 'backpack_0': 0, 'backpack_1': 0, 'backpack_2': 0, 'kills': 17, 'deaths': 2, 'assists': 21, 'leaver_status': 0, 'last_hits': 95, 'denies': 5, 'gold_per_min': 1092, 'xp_per_min': 1647, 'level': 30, 'hero_damage': 52051, 'tower_damage': 4314, 'hero_healing': 0, 'gold': 6825, 'gold_spent': 28355, 'scaled_hero_damage': 19906, 'scaled_tower_damage': 2412, 'scaled_hero_healing': 0, 'ability_upgrades': [{'ability': 5143, 'level': 0}, {'ability': 5145, 'level': 1}, {'ability': 5143, 'level': 2}, {'ability': 5142, 'level': 3}, {'ability': 5143, 'level': 4}, {'ability': 5144, 'level': 5}, {'ability': 5145, 'level': 6}, {'ability': 5145, 'level': 7}, {'ability': 6016, 'level': 8}, {'ability': 5145, 'level': 9}, {'ability': 5143, 'level': 10}, {'ability': 5144, 'level': 11}, {'ability': 5142, 'level': 12}, {'ability': 5142, 'level': 13}, {'ability': 6164, 'level': 14}, {'ability': 5142, 'level': 15}, {'ability': 5144, 'level': 16}, {'ability': 6330, 'level': 17}, {'ability': 6867, 'level': 18}, {'ability': 5911, 'level': 19}, {'ability': 6193, 'level': 20}, {'ability': 6865, 'level': 21}, {'ability': 347, 'level': 22}]}, {'account_id': 477890987, 'player_slot': 8, 'hero_id': 75, 'item_0': 250, 'item_1': 63, 'item_2': 263, 'item_3': 119, 'item_4': 185, 'item_5': 116, 'backpack_0': 0, 'backpack_1': 0, 'backpack_2': 304, 'kills': 11, 'deaths': 8, 'assists': 27, 'leaver_status': 0, 'last_hits': 37, 'denies': 1, 'gold_per_min': 881, 'xp_per_min': 1385, 'level': 30, 'hero_damage': 34399, 'tower_damage': 2136, 'hero_healing': 0, 'gold': 2962, 'gold_spent': 25310, 'scaled_hero_damage': 15886, 'scaled_tower_damage': 1210, 'scaled_hero_healing': 0, 'ability_upgrades': [{'ability': 5378, 'level': 0}, {'ability': 5377, 'level': 1}, {'ability': 5379, 'level': 2}, {'ability': 5378, 'level': 3}, {'ability': 5378, 'level': 4}, {'ability': 5380, 'level': 5}, {'ability': 5378, 'level': 6}, {'ability': 5377, 'level': 7}, {'ability': 5377, 'level': 8}, {'ability': 6016, 'level': 9}, {'ability': 5377, 'level': 10}, {'ability': 5380, 'level': 11}, {'ability': 5379, 'level': 12}, {'ability': 5379, 'level': 13}, {'ability': 6878, 'level': 14}, {'ability': 5379, 'level': 15}, {'ability': 5380, 'level': 16}, {'ability': 5944, 'level': 17}, {'ability': 6879, 'level': 18}, {'ability': 5933, 'level': 19}, {'ability': 6008, 'level': 20}, {'ability': 6184, 'level': 21}, {'ability': 6880, 'level': 22}]}, {'account_id': 101523670, 'player_slot': 9, 'hero_id': 17, 'item_0': 98, 'item_1': 96, 'item_2': 63, 'item_3': 108, 'item_4': 121, 'item_5': 273, 'backpack_0': 77, 'backpack_1': 41, 'backpack_2': 0, 'kills': 7, 'deaths': 11, 'assists': 21, 'leaver_status': 0, 'last_hits': 77, 'denies': 3, 'gold_per_min': 856, 'xp_per_min': 1244, 'level': 29, 'hero_damage': 28275, 'tower_damage': 1760, 'hero_healing': 0, 'gold': 165, 'gold_spent': 27245, 'scaled_hero_damage': 12131, 'scaled_tower_damage': 1181, 'scaled_hero_healing': 0, 'ability_upgrades': [{'ability': 5098, 'level': 0}, {'ability': 5100, 'level': 1}, {'ability': 5098, 'level': 2}, {'ability': 5100, 'level': 3}, {'ability': 5100, 'level': 4}, {'ability': 5101, 'level': 5}, {'ability': 5100, 'level': 6}, {'ability': 5098, 'level': 7}, {'ability': 5098, 'level': 8}, {'ability': 6160, 'level': 9}, {'ability': 5099, 'level': 10}, {'ability': 5101, 'level': 11}, {'ability': 5099, 'level': 12}, {'ability': 5099, 'level': 13}, {'ability': 6916, 'level': 14}, {'ability': 5099, 'level': 15}, {'ability': 5101, 'level': 16}, {'ability': 6167, 'level': 17}, {'ability': 6908, 'level': 18}]}], 'picks_bans': [{'hero_id': 30, 'is_pick': False, 'order': 0, 'team': 0}, {'hero_id': 41, 'is_pick': False, 'order': 1, 'team': 0}, {'hero_id': 34, 'is_pick': False, 'order': 2, 'team': 0}, {'hero_id': 105, 'is_pick': False, 'order': 3, 'team': 0}, {'hero_id': 21, 'is_pick': False, 'order': 4, 'team': 0}]}}\n"
     ]
    },
    {
     "name": "stdout",
     "output_type": "stream",
     "text": [
      "4.比赛选手技能加点\n",
      "{'retcode': 200, 'data': [{'player_id': 4294967295, 'player_slot': 0, 'hero_id': 99, 'ability_upgrades': [{'ability': 5549, 'level': 0}, {'ability': 5550, 'level': 1}, {'ability': 5549, 'level': 2}, {'ability': 5550, 'level': 3}, {'ability': 5549, 'level': 4}, {'ability': 5551, 'level': 5}, {'ability': 5549, 'level': 6}, {'ability': 5550, 'level': 7}, {'ability': 5550, 'level': 8}, {'ability': 5918, 'level': 9}, {'ability': 5548, 'level': 10}, {'ability': 5551, 'level': 11}, {'ability': 5548, 'level': 12}, {'ability': 5548, 'level': 13}, {'ability': 6083, 'level': 14}, {'ability': 5548, 'level': 15}, {'ability': 5551, 'level': 16}, {'ability': 6308, 'level': 17}, {'ability': 6550, 'level': 18}]}, {'player_id': 160403523, 'player_slot': 1, 'hero_id': 70, 'ability_upgrades': [{'ability': 5359, 'level': 0}, {'ability': 5358, 'level': 1}, {'ability': 5359, 'level': 2}, {'ability': 5358, 'level': 3}, {'ability': 5359, 'level': 4}, {'ability': 5360, 'level': 5}, {'ability': 5359, 'level': 6}, {'ability': 5358, 'level': 7}, {'ability': 5357, 'level': 8}, {'ability': 5358, 'level': 9}, {'ability': 5961, 'level': 10}, {'ability': 5360, 'level': 11}, {'ability': 5357, 'level': 12}, {'ability': 5357, 'level': 13}, {'ability': 6975, 'level': 14}, {'ability': 5357, 'level': 15}, {'ability': 5360, 'level': 16}, {'ability': 6132, 'level': 17}, {'ability': 7133, 'level': 18}]}, {'player_id': 4294967295, 'player_slot': 2, 'hero_id': 93, 'ability_upgrades': [{'ability': 5496, 'level': 0}, {'ability': 5495, 'level': 1}, {'ability': 5496, 'level': 2}, {'ability': 5494, 'level': 3}, {'ability': 5494, 'level': 4}, {'ability': 5497, 'level': 5}, {'ability': 5494, 'level': 6}, {'ability': 5494, 'level': 7}, {'ability': 5495, 'level': 8}, {'ability': 5495, 'level': 9}, {'ability': 7384, 'level': 10}, {'ability': 5497, 'level': 11}, {'ability': 5495, 'level': 12}, {'ability': 5496, 'level': 13}, {'ability': 6078, 'level': 14}, {'ability': 5496, 'level': 15}, {'ability': 5497, 'level': 16}, {'ability': 6147, 'level': 17}, {'ability': 6893, 'level': 18}]}, {'player_id': 4294967295, 'player_slot': 3, 'hero_id': 59, 'ability_upgrades': [{'ability': 5272, 'level': 0}, {'ability': 5273, 'level': 1}, {'ability': 5272, 'level': 2}, {'ability': 7300, 'level': 3}, {'ability': 5273, 'level': 4}, {'ability': 5273, 'level': 5}, {'ability': 5273, 'level': 6}, {'ability': 5272, 'level': 7}, {'ability': 5274, 'level': 8}, {'ability': 5938, 'level': 9}, {'ability': 5272, 'level': 10}, {'ability': 7300, 'level': 11}, {'ability': 5274, 'level': 12}, {'ability': 6078, 'level': 13}, {'ability': 7300, 'level': 14}, {'ability': 7300, 'level': 15}, {'ability': 5274, 'level': 16}, {'ability': 6080, 'level': 17}, {'ability': 7143, 'level': 18}, {'ability': 6405, 'level': 19}, {'ability': 6380, 'level': 20}, {'ability': 6204, 'level': 21}, {'ability': 6186, 'level': 22}]}, {'player_id': 1042998757, 'player_slot': 4, 'hero_id': 74, 'ability_upgrades': [{'ability': 5370, 'level': 0}, {'ability': 5372, 'level': 1}, {'ability': 5371, 'level': 2}, {'ability': 5370, 'level': 3}, {'ability': 5372, 'level': 4}, {'ability': 5371, 'level': 5}, {'ability': 5371, 'level': 6}, {'ability': 5372, 'level': 7}, {'ability': 5372, 'level': 8}, {'ability': 5371, 'level': 9}, {'ability': 5371, 'level': 10}, {'ability': 6811, 'level': 11}, {'ability': 5370, 'level': 12}, {'ability': 5371, 'level': 13}, {'ability': 7148, 'level': 14}, {'ability': 5372, 'level': 15}, {'ability': 5372, 'level': 16}, {'ability': 5372, 'level': 17}, {'ability': 6657, 'level': 18}, {'ability': 5370, 'level': 19}, {'ability': 5371, 'level': 20}, {'ability': 5370, 'level': 21}, {'ability': 5370, 'level': 22}, {'ability': 5370, 'level': 23}, {'ability': 6098, 'level': 24}]}, {'player_id': 976581128, 'player_slot': 5, 'hero_id': 4, 'ability_upgrades': [{'ability': 5017, 'level': 0}, {'ability': 5015, 'level': 1}, {'ability': 5016, 'level': 2}, {'ability': 5017, 'level': 3}, {'ability': 5017, 'level': 4}, {'ability': 5018, 'level': 5}, {'ability': 5017, 'level': 6}, {'ability': 5016, 'level': 7}, {'ability': 5016, 'level': 8}, {'ability': 5016, 'level': 9}, {'ability': 5018, 'level': 10}, {'ability': 6016, 'level': 11}, {'ability': 5015, 'level': 12}, {'ability': 5015, 'level': 13}, {'ability': 6311, 'level': 14}, {'ability': 5015, 'level': 15}, {'ability': 5018, 'level': 16}, {'ability': 6357, 'level': 17}, {'ability': 6809, 'level': 18}, {'ability': 5933, 'level': 19}, {'ability': 6356, 'level': 20}, {'ability': 6111, 'level': 21}, {'ability': 6230, 'level': 22}]}, {'player_id': 190429625, 'player_slot': 6, 'hero_id': 49, 'ability_upgrades': [{'ability': 5228, 'level': 0}, {'ability': 5226, 'level': 1}, {'ability': 5228, 'level': 2}, {'ability': 5226, 'level': 3}, {'ability': 5226, 'level': 4}, {'ability': 5228, 'level': 5}, {'ability': 5228, 'level': 6}, {'ability': 5226, 'level': 7}, {'ability': 5229, 'level': 8}, {'ability': 7113, 'level': 9}, {'ability': 5227, 'level': 10}, {'ability': 5229, 'level': 11}, {'ability': 5227, 'level': 12}, {'ability': 5227, 'level': 13}, {'ability': 5976, 'level': 14}, {'ability': 5227, 'level': 15}, {'ability': 5229, 'level': 16}, {'ability': 5952, 'level': 17}, {'ability': 6090, 'level': 18}, {'ability': 6160, 'level': 19}, {'ability': 5939, 'level': 20}, {'ability': 5984, 'level': 21}, {'ability': 6635, 'level': 22}]}, {'player_id': 4294967295, 'player_slot': 7, 'hero_id': 32, 'ability_upgrades': [{'ability': 5143, 'level': 0}, {'ability': 5145, 'level': 1}, {'ability': 5143, 'level': 2}, {'ability': 5142, 'level': 3}, {'ability': 5143, 'level': 4}, {'ability': 5144, 'level': 5}, {'ability': 5145, 'level': 6}, {'ability': 5145, 'level': 7}, {'ability': 6016, 'level': 8}, {'ability': 5145, 'level': 9}, {'ability': 5143, 'level': 10}, {'ability': 5144, 'level': 11}, {'ability': 5142, 'level': 12}, {'ability': 5142, 'level': 13}, {'ability': 6164, 'level': 14}, {'ability': 5142, 'level': 15}, {'ability': 5144, 'level': 16}, {'ability': 6330, 'level': 17}, {'ability': 6867, 'level': 18}, {'ability': 5911, 'level': 19}, {'ability': 6193, 'level': 20}, {'ability': 6865, 'level': 21}, {'ability': 347, 'level': 22}]}, {'player_id': 477890987, 'player_slot': 8, 'hero_id': 75, 'ability_upgrades': [{'ability': 5378, 'level': 0}, {'ability': 5377, 'level': 1}, {'ability': 5379, 'level': 2}, {'ability': 5378, 'level': 3}, {'ability': 5378, 'level': 4}, {'ability': 5380, 'level': 5}, {'ability': 5378, 'level': 6}, {'ability': 5377, 'level': 7}, {'ability': 5377, 'level': 8}, {'ability': 6016, 'level': 9}, {'ability': 5377, 'level': 10}, {'ability': 5380, 'level': 11}, {'ability': 5379, 'level': 12}, {'ability': 5379, 'level': 13}, {'ability': 6878, 'level': 14}, {'ability': 5379, 'level': 15}, {'ability': 5380, 'level': 16}, {'ability': 5944, 'level': 17}, {'ability': 6879, 'level': 18}, {'ability': 5933, 'level': 19}, {'ability': 6008, 'level': 20}, {'ability': 6184, 'level': 21}, {'ability': 6880, 'level': 22}]}, {'player_id': 101523670, 'player_slot': 9, 'hero_id': 17, 'ability_upgrades': [{'ability': 5098, 'level': 0}, {'ability': 5100, 'level': 1}, {'ability': 5098, 'level': 2}, {'ability': 5100, 'level': 3}, {'ability': 5100, 'level': 4}, {'ability': 5101, 'level': 5}, {'ability': 5100, 'level': 6}, {'ability': 5098, 'level': 7}, {'ability': 5098, 'level': 8}, {'ability': 6160, 'level': 9}, {'ability': 5099, 'level': 10}, {'ability': 5101, 'level': 11}, {'ability': 5099, 'level': 12}, {'ability': 5099, 'level': 13}, {'ability': 6916, 'level': 14}, {'ability': 5099, 'level': 15}, {'ability': 5101, 'level': 16}, {'ability': 6167, 'level': 17}, {'ability': 6908, 'level': 18}]}]}\n"
     ]
    }
   ],
   "source": [
    "if __name__ == \"__main__\":\n",
    "    #testApiBasic()\n",
    "    #testApiLeague()\n",
    "    #testApiMatch()\n",
    "    testApiMatch_After()\n",
    "    #testApi()\n",
    "    #testApiSql()\n",
    "    #testGui()\n",
    "    #testSql()"
   ]
  }
 ],
 "metadata": {
  "kernelspec": {
   "display_name": "Python 3",
   "language": "python",
   "name": "python3"
  },
  "language_info": {
   "codemirror_mode": {
    "name": "ipython",
    "version": 3
   },
   "file_extension": ".py",
   "mimetype": "text/x-python",
   "name": "python",
   "nbconvert_exporter": "python",
   "pygments_lexer": "ipython3",
   "version": "3.7.7"
  }
 },
 "nbformat": 4,
 "nbformat_minor": 4
}
