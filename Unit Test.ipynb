{
 "cells": [
  {
   "cell_type": "markdown",
   "metadata": {},
   "source": [
    "# 此文件用于单元测试，以及展示函数用法"
   ]
  },
  {
   "cell_type": "markdown",
   "metadata": {},
   "source": [
    "## 使用API获取fundata数据"
   ]
  },
  {
   "cell_type": "markdown",
   "metadata": {},
   "source": [
    "### API基础信息"
   ]
  },
  {
   "cell_type": "code",
   "execution_count": 30,
   "metadata": {},
   "outputs": [],
   "source": [
    "from fundata.client import init_api_client\n",
    "from fundata.dota2.raw.raw import *\n",
    "from fundata.dota2.league.player import *\n",
    "from fundata.dota2.league.team import *\n",
    "def testApiBasic():\n",
    "    #初始化\n",
    "    init_api_client()\n",
    "    \"\"\"\n",
    "    #查询选手信息\n",
    "    res=get_batch_player(0,5)\n",
    "    print(\"1.查询选手信息\")\n",
    "    print(res)\n",
    "    \n",
    "    #查询选手信息\n",
    "    res=get_single_player(318371533)\n",
    "    print(\"2.查询选手信息\")\n",
    "    print(res)\n",
    "    \n",
    "    #查询战队信息\n",
    "    res=get_batch_team(0,8)\n",
    "    print(\"3.查询战队信息\")\n",
    "    print(res[\"data\"][7])\n",
    "             \n",
    "    #查询战队信息\n",
    "    res=get_single_team(7422511)\n",
    "    print(\"4.查询战队信息\")\n",
    "    print(res)\n",
    "    \"\"\"     \n",
    "    #查询英雄信息\n",
    "    res=get_hero()\n",
    "    print(\"5.查询英雄信息\")\n",
    "    print(res[\"data\"][1])\n",
    "    \"\"\"      \n",
    "    #查询道具信息\n",
    "    res=get_item()\n",
    "    print(\"6.查询道具信息\")\n",
    "    print(res)\n",
    "    \"\"\"      "
   ]
  },
  {
   "cell_type": "markdown",
   "metadata": {},
   "source": [
    "### API赛事信息"
   ]
  },
  {
   "cell_type": "code",
   "execution_count": 31,
   "metadata": {},
   "outputs": [],
   "source": [
    "from fundata.client import init_api_client\n",
    "from fundata.dota2.league.league import *\n",
    "\n",
    "def testApiLeague():\n",
    "    #初始化\n",
    "    init_api_client()\n",
    "    \n",
    "    #查询赛事列表\n",
    "    res=get_league_list(1,2)\n",
    "    print(\"1.查询赛事列表\")\n",
    "    print(res)\n",
    "        \n",
    "    #查询赛事详情\n",
    "    res=get_league_detail(\"D001842\")\n",
    "    print(\"2.查询赛事详情\")\n",
    "    print(res)\n",
    "    \n",
    "    #联赛队伍列表\n",
    "    res=get_league_team_list(\"D001842\")\n",
    "    print(\"3.联赛队伍列表\")\n",
    "    print(res)\n",
    "    "
   ]
  },
  {
   "cell_type": "markdown",
   "metadata": {},
   "source": [
    "### API单场赛前"
   ]
  },
  {
   "cell_type": "code",
   "execution_count": 32,
   "metadata": {},
   "outputs": [],
   "source": [
    "from fundata.client import init_api_client\n",
    "from fundata.dota2.match.match import *\n",
    "def testApiMatch():\n",
    "    #初始化\n",
    "    init_api_client()\n",
    "        \n",
    "    #批量获取比赛基本数据\n",
    "    res=get_batch_basic_info(1586793600,5353639573,10)\n",
    "    print(\"1.批量获取比赛基本数据\")\n",
    "    count=len(res[\"data\"])\n",
    "    #print(\"lenth=%s,last matchID=%s\"%(count,res[\"data\"][count-1][\"match_id\"]))\n",
    "    print(res)\n",
    "    \"\"\"\n",
    "    #批量比赛ban-picks信息\n",
    "    res=get_batch_ban_pick(1577808000,5177754392,2)\n",
    "    print(\"2.批量比赛ban-picks信息\")\n",
    "    print(res)\n",
    "    \n",
    "    #批量比赛选手数据\n",
    "    res=get_batch_match_player(1577808000,5177754392,2)\n",
    "    print(\"3.批量比赛选手数据\")\n",
    "    print(res)\n",
    "    \n",
    "    #批量比赛选手技能加点\n",
    "    res=get_batch_ability_upgrades(1577808000,5177754392,2)\n",
    "    print(\"4.批量比赛选手技能加点\")\n",
    "    print(res)\n",
    "    \"\"\""
   ]
  },
  {
   "cell_type": "markdown",
   "metadata": {},
   "source": [
    "### API单场赛后"
   ]
  },
  {
   "cell_type": "code",
   "execution_count": 33,
   "metadata": {},
   "outputs": [],
   "source": [
    "from fundata.client import init_api_client\n",
    "from fundata.dota2.match.match import *\n",
    "def testApiMatch_After():\n",
    "    #初始化\n",
    "    init_api_client()\n",
    "        \n",
    "    #获取比赛基本数据\n",
    "    res=get_single_basic_info(5177754380)\n",
    "    print(\"1.获取比赛基本数据\")\n",
    "    print(res)\n",
    "    \n",
    "    #比赛ban-picks信息\n",
    "    res=get_single_ban_picks(5177754806)\n",
    "    print(\"2.比赛ban-picks信息\")\n",
    "    print(res)\n",
    "    \n",
    "    #获取比赛的基本信息+队员信息+ban/pick信息+队员技能升级信息+队伍信息\n",
    "    res=get_single_general_info(5177754806)\n",
    "    print(\"3.获取比赛的基本信息+队员信息+ban/pick信息+队员技能升级信息+队伍信息\")\n",
    "    print(res)\n",
    "    \n",
    "    #比赛选手技能加点\n",
    "    res=get_single_ability_upgrades(5177754806)\n",
    "    print(\"4.比赛选手技能加点\")\n",
    "    print(res)"
   ]
  },
  {
   "cell_type": "markdown",
   "metadata": {},
   "source": [
    "## 写MySQL"
   ]
  },
  {
   "cell_type": "code",
   "execution_count": 34,
   "metadata": {},
   "outputs": [],
   "source": [
    "from mysql.sqlConnect import sqlConnection,sqlDisconnection,sqlInsert,createTable\n",
    "from mysql.dataHandler import api_transfer_sql,sqlColumn\n",
    "def testApiSql():\n",
    "    ##从API拿数据\n",
    "    init_api_client()\n",
    "    res_a=get_batch_player(0,5)\n",
    "    \n",
    "    ##写入MySQL\n",
    "    sqlConnection()\n",
    "    \n",
    "    #建表\n",
    "    createTable(\"player_test\",res_a,True)\n",
    "    \n",
    "    #将API返回结果，转化成参数\n",
    "    param=api_transfer_sql(res_a)\n",
    "    #插入数据\n",
    "    str=sqlColumn(res_a)\n",
    "    sql=\"insert into player_test(\"+str[\"key\"]+\") values (\"+str[\"s\"]+\")\"\n",
    "    print (sql)\n",
    "    row=sqlInsert(sql,param)\n",
    "    print(\"插入数据\")\n",
    "    print(row)\n",
    "    \n",
    "    #关闭数据库\n",
    "    sqlDisconnection()"
   ]
  },
  {
   "cell_type": "markdown",
   "metadata": {},
   "source": [
    "## 用Web页面展示数据"
   ]
  },
  {
   "cell_type": "code",
   "execution_count": 35,
   "metadata": {},
   "outputs": [],
   "source": [
    "from gui.webPage import generate_web_page\n",
    "def testGui():\n",
    "    #展示API数据\n",
    "    init_api_client()\n",
    "    res=get_batch_player(0,40)\n",
    "    generate_web_page(\"testApi.html\",\"运动员数据\",\"api\", res)\n",
    "    print(res)\n",
    "    \n",
    "    #展示Sql数据\n",
    "    cur=sqlConnection()\n",
    "    data=sqlSelect(\"SELECT * FROM player WHERE nation=%s and position=%s limit 5\",[\"CN\",2])\n",
    "    column=columnName(\"player\")\n",
    "    res={\"data\":data,\"column\":column}\n",
    "    generate_web_page(\"testSql.html\",\"运动员数据\",\"sql\", res)"
   ]
  },
  {
   "cell_type": "markdown",
   "metadata": {},
   "source": [
    "## 读MySQL"
   ]
  },
  {
   "cell_type": "code",
   "execution_count": 36,
   "metadata": {},
   "outputs": [],
   "source": [
    "from mysql.sqlConnect import sqlConnection,sqlDisconnection,sqlSelect,columnName\n",
    "def testSql():\n",
    "    #初始化数据库\n",
    "    cur=sqlConnection()\n",
    "    \n",
    "    #查询列名\n",
    "    res=columnName(\"player\")\n",
    "    print(\"查询列名\")\n",
    "    print(res)\n",
    "    \n",
    "    #查询数据\n",
    "    #res=sqlSelect(\"SELECT * FROM player WHERE nation=%s and position=%s limit 5\",[\"CN\",2])\n",
    "    res=sqlSelect(\"SELECT count(*) FROM information_schema.TABLES WHERE table_name=%s\",\"player\")\n",
    "    print(\"查询数据=\")\n",
    "    print(res)\n",
    "    \n",
    "    #关闭数据库\n",
    "    sqlDisconnection()"
   ]
  },
  {
   "cell_type": "markdown",
   "metadata": {},
   "source": [
    "## 当需要获取的数据量较大时（超过API上限），分批获取并且插入数据库"
   ]
  },
  {
   "cell_type": "markdown",
   "metadata": {},
   "source": [
    "测试到10,000的数据量"
   ]
  },
  {
   "cell_type": "code",
   "execution_count": 37,
   "metadata": {},
   "outputs": [],
   "source": [
    "from sync.syncTrans import *\n",
    "#sync_match(\"2020-4-1 00:00:00\",0,20000)"
   ]
  },
  {
   "cell_type": "markdown",
   "metadata": {},
   "source": [
    "### 量少的数据，从API获取并且放入MySQL"
   ]
  },
  {
   "cell_type": "code",
   "execution_count": 38,
   "metadata": {},
   "outputs": [],
   "source": [
    "from sync.syncTrans import *\n",
    "def syncAll():\n",
    "    print(\"sync player=%i\"%sync_player(1600))\n",
    "    #print(\"sync team=%i\"%sync_team(1000))\n",
    "    \n",
    "    #print(\"sync hero=%i\"%sync_hero())#暂缓调试，功能不正确\n",
    "    #print(\"sync item=%i\"%sync_item())"
   ]
  },
  {
   "cell_type": "code",
   "execution_count": 39,
   "metadata": {},
   "outputs": [
    {
     "name": "stdout",
     "output_type": "stream",
     "text": [
      "1.批量获取比赛基本数据\n",
      "{'retcode': 200, 'data': [{'barracks_status_dire': 0, 'barracks_status_radiant': 63, 'cluster': 181, 'dire_score': 18, 'duration': 1985, 'engine': 1, 'first_blood_time': 7, 'flags': 0, 'game_mode': 22, 'human_players': 10, 'league_id': 0, 'lobby_type': 7, 'match_id': 5353639613, 'match_seq_num': 4489332070, 'negative_votes': 0, 'positive_votes': 0, 'pre_game_duration': 90, 'radiant_score': 25, 'radiant_win': True, 'start_time': 1586793600, 'tower_status_dire': 0, 'tower_status_radiant': 1975, 'season': '', 'skill': 3}, {'barracks_status_dire': 51, 'barracks_status_radiant': 63, 'cluster': 192, 'dire_score': 37, 'duration': 2368, 'engine': 1, 'first_blood_time': 14, 'flags': 0, 'game_mode': 22, 'human_players': 10, 'league_id': 0, 'lobby_type': 7, 'match_id': 5353639616, 'match_seq_num': 4489340156, 'negative_votes': 0, 'positive_votes': 0, 'pre_game_duration': 90, 'radiant_score': 39, 'radiant_win': True, 'start_time': 1586793600, 'tower_status_dire': 390, 'tower_status_radiant': 1980, 'season': '', 'skill': 1}, {'barracks_status_dire': 51, 'barracks_status_radiant': 63, 'cluster': 155, 'dire_score': 39, 'duration': 2008, 'engine': 1, 'first_blood_time': 26, 'flags': 0, 'game_mode': 22, 'human_players': 10, 'league_id': 0, 'lobby_type': 7, 'match_id': 5353639721, 'match_seq_num': 4489331510, 'negative_votes': 0, 'positive_votes': 0, 'pre_game_duration': 90, 'radiant_score': 41, 'radiant_win': True, 'start_time': 1586793600, 'tower_status_dire': 390, 'tower_status_radiant': 1974, 'season': '', 'skill': 1}, {'barracks_status_dire': 0, 'barracks_status_radiant': 63, 'cluster': 122, 'dire_score': 31, 'duration': 2248, 'engine': 1, 'first_blood_time': 12, 'flags': 0, 'game_mode': 22, 'human_players': 10, 'league_id': 0, 'lobby_type': 0, 'match_id': 5353639880, 'match_seq_num': 4489337740, 'negative_votes': 0, 'positive_votes': 0, 'pre_game_duration': 90, 'radiant_score': 39, 'radiant_win': True, 'start_time': 1586793600, 'tower_status_dire': 0, 'tower_status_radiant': 1974, 'season': '', 'skill': 0}, {'barracks_status_dire': 63, 'barracks_status_radiant': 3, 'cluster': 236, 'dire_score': 33, 'duration': 1487, 'engine': 1, 'first_blood_time': 12, 'flags': 0, 'game_mode': 3, 'human_players': 10, 'league_id': 0, 'lobby_type': 7, 'match_id': 5353640099, 'match_seq_num': 4489320253, 'negative_votes': 0, 'positive_votes': 0, 'pre_game_duration': 90, 'radiant_score': 7, 'radiant_win': False, 'start_time': 1586793600, 'tower_status_dire': 2047, 'tower_status_radiant': 6, 'season': '', 'skill': 1}, {'barracks_status_dire': 63, 'barracks_status_radiant': 48, 'cluster': 236, 'dire_score': 59, 'duration': 2060, 'engine': 1, 'first_blood_time': 175, 'flags': 0, 'game_mode': 22, 'human_players': 10, 'league_id': 0, 'lobby_type': 0, 'match_id': 5353639087, 'match_seq_num': 4489331383, 'negative_votes': 0, 'positive_votes': 0, 'pre_game_duration': 90, 'radiant_score': 33, 'radiant_win': False, 'start_time': 1586793601, 'tower_status_dire': 2046, 'tower_status_radiant': 256, 'season': '', 'skill': 1}, {'barracks_status_dire': 63, 'barracks_status_radiant': 63, 'cluster': 185, 'dire_score': 5, 'duration': 215, 'engine': 1, 'first_blood_time': 52, 'flags': 0, 'game_mode': 23, 'human_players': 10, 'league_id': 0, 'lobby_type': 0, 'match_id': 5353639133, 'match_seq_num': 4489283082, 'negative_votes': 0, 'positive_votes': 0, 'pre_game_duration': 60, 'radiant_score': 3, 'radiant_win': False, 'start_time': 1586793601, 'tower_status_dire': 2047, 'tower_status_radiant': 2047, 'season': '', 'skill': 1}, {'barracks_status_dire': 63, 'barracks_status_radiant': 0, 'cluster': 188, 'dire_score': 34, 'duration': 1517, 'engine': 1, 'first_blood_time': 14, 'flags': 0, 'game_mode': 23, 'human_players': 10, 'league_id': 0, 'lobby_type': 0, 'match_id': 5353639135, 'match_seq_num': 4489316298, 'negative_votes': 0, 'positive_votes': 0, 'pre_game_duration': 60, 'radiant_score': 25, 'radiant_win': False, 'start_time': 1586793601, 'tower_status_dire': 2038, 'tower_status_radiant': 0, 'season': '', 'skill': 1}, {'barracks_status_dire': 0, 'barracks_status_radiant': 63, 'cluster': 214, 'dire_score': 20, 'duration': 1555, 'engine': 1, 'first_blood_time': 174, 'flags': 0, 'game_mode': 22, 'human_players': 10, 'league_id': 0, 'lobby_type': 0, 'match_id': 5353639143, 'match_seq_num': 4489319581, 'negative_votes': 0, 'positive_votes': 0, 'pre_game_duration': 90, 'radiant_score': 44, 'radiant_win': True, 'start_time': 1586793601, 'tower_status_dire': 0, 'tower_status_radiant': 2047, 'season': '', 'skill': 1}, {'barracks_status_dire': 16, 'barracks_status_radiant': 63, 'cluster': 137, 'dire_score': 18, 'duration': 1737, 'engine': 1, 'first_blood_time': 13, 'flags': 0, 'game_mode': 22, 'human_players': 10, 'league_id': 0, 'lobby_type': 7, 'match_id': 5353639173, 'match_seq_num': 4489327336, 'negative_votes': 0, 'positive_votes': 0, 'pre_game_duration': 90, 'radiant_score': 33, 'radiant_win': True, 'start_time': 1586793601, 'tower_status_dire': 0, 'tower_status_radiant': 2047, 'season': '', 'skill': 1}, {'barracks_status_dire': 3, 'barracks_status_radiant': 63, 'cluster': 193, 'dire_score': 10, 'duration': 1351, 'engine': 1, 'first_blood_time': 158, 'flags': 0, 'game_mode': 22, 'human_players': 10, 'league_id': 0, 'lobby_type': 7, 'match_id': 5353639176, 'match_seq_num': 4489315599, 'negative_votes': 0, 'positive_votes': 0, 'pre_game_duration': 90, 'radiant_score': 25, 'radiant_win': True, 'start_time': 1586793601, 'tower_status_dire': 4, 'tower_status_radiant': 2044, 'season': '', 'skill': 1}]}\n"
     ]
    }
   ],
   "source": [
    "if __name__ == \"__main__\":\n",
    "    #testApiBasic()\n",
    "    #testApiLeague()\n",
    "    testApiMatch()\n",
    "    #testApiMatch_After()\n",
    "    #testApi()\n",
    "    #testApiSql()\n",
    "    #testGui()\n",
    "    #testSql()\n",
    "    #syncAll()"
   ]
  },
  {
   "cell_type": "code",
   "execution_count": null,
   "metadata": {},
   "outputs": [],
   "source": []
  }
 ],
 "metadata": {
  "kernelspec": {
   "display_name": "Python 3",
   "language": "python",
   "name": "python3"
  },
  "language_info": {
   "codemirror_mode": {
    "name": "ipython",
    "version": 3
   },
   "file_extension": ".py",
   "mimetype": "text/x-python",
   "name": "python",
   "nbconvert_exporter": "python",
   "pygments_lexer": "ipython3",
   "version": "3.7.7"
  }
 },
 "nbformat": 4,
 "nbformat_minor": 4
}
