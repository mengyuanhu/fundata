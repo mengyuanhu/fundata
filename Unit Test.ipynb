{
 "cells": [
  {
   "cell_type": "markdown",
   "metadata": {},
   "source": [
    "# 此文件用于单元测试，以及展示函数用法"
   ]
  },
  {
   "cell_type": "markdown",
   "metadata": {},
   "source": [
    "## 使用API获取fundata数据"
   ]
  },
  {
   "cell_type": "markdown",
   "metadata": {},
   "source": [
    "### API基础信息"
   ]
  },
  {
   "cell_type": "code",
   "execution_count": 1,
   "metadata": {},
   "outputs": [],
   "source": [
    "from fundata.client import init_api_client\n",
    "from fundata.dota2.raw.raw import *\n",
    "from fundata.dota2.player.player_info import *\n",
    "from fundata.dota2.team.team import *\n",
    "def testApiBasic():\n",
    "    #初始化\n",
    "    init_api_client()\n",
    "    \n",
    "    #查询选手信息\n",
    "    res=get_batch_player(0,5)\n",
    "    print(\"查询选手信息\")\n",
    "    print(res)\n",
    "    \n",
    "    #查询选手信息\n",
    "    res=get_single_player(101695162)\n",
    "    print(\"查询选手信息\")\n",
    "    print(res)\n",
    "    \n",
    "    #查询战队信息\n",
    "    res=get_batch_team(0,5)\n",
    "    print(\"查询战队信息\")\n",
    "    print(res)\n",
    "        \n",
    "    #查询战队信息\n",
    "    res=get_single_team(5177754392)\n",
    "    print(\"查询战队信息\")\n",
    "    print(res)\n",
    "    \n",
    "    #查询英雄信息\n",
    "    res=get_hero()\n",
    "    print(\"查询英雄信息\")\n",
    "    print(res)\n",
    "     \n",
    "    #查询道具信息\n",
    "    res=get_item()\n",
    "    print(\"查询道具信息\")\n",
    "    print(res)\n",
    "    "
   ]
  },
  {
   "cell_type": "markdown",
   "metadata": {},
   "source": [
    "### API赛事信息"
   ]
  },
  {
   "cell_type": "code",
   "execution_count": 2,
   "metadata": {},
   "outputs": [],
   "source": [
    "from fundata.client import init_api_client\n",
    "from fundata.dota2.league.league import *\n",
    "\n",
    "def testApiLeague():\n",
    "    #初始化\n",
    "    init_api_client()\n",
    "    \n",
    "    #查询赛事列表\n",
    "    res=get_league_list(1,2)\n",
    "    print(\"查询赛事列表\")\n",
    "    print(res)\n",
    "        \n",
    "    #查询赛事详情\n",
    "    res=get_league_detail(\"D001842\")\n",
    "    print(\"查询赛事详情\")\n",
    "    print(res)\n",
    "    \n",
    "    #联赛队伍列表\n",
    "    res=get_league_team_list(\"D001842\")\n",
    "    print(\"联赛队伍列表\")\n",
    "    print(res)\n",
    "    "
   ]
  },
  {
   "cell_type": "code",
   "execution_count": 3,
   "metadata": {},
   "outputs": [],
   "source": [
    "from fundata.client import init_api_client\n",
    "from fundata.dota2.match import get_batch_basic_info, get_single_basic_info\n",
    "from fundata.dota2.player.player_detail import get_player_detail_stats,get_player_data_status\n",
    "def testApi():\n",
    "    #初始化\n",
    "    init_api_client()\n",
    "\n",
    "    \n",
    "    #根据比赛ID查询比赛信息\n",
    "    res = get_single_basic_info(3766730668)\n",
    "    print(\"根据比赛ID查询比赛信息\")\n",
    "    print(res)\n",
    "    \n",
    "    #根据选手ID查看分析数据状态\n",
    "    res=get_player_data_status(80929738)\n",
    "    print(\"根据选手ID查看分析数据状态\")\n",
    "    print(res)\n",
    "    \n",
    "    #根据选手ID查看分析数据\n",
    "    res=get_player_detail_stats(80929738)\n",
    "    print(\"根据选手ID查看分析数据状态\")\n",
    "    print(res)\n",
    "\n",
    "    \n",
    "    #根据时间查询比赛信息\n",
    "    res=get_batch_basic_info(1577808000,5177754392,2)\n",
    "    print(\"根据时间查询比赛信息\")\n",
    "    print(res)"
   ]
  },
  {
   "cell_type": "markdown",
   "metadata": {},
   "source": [
    "## 写MySQL"
   ]
  },
  {
   "cell_type": "code",
   "execution_count": 4,
   "metadata": {},
   "outputs": [],
   "source": [
    "from mysql.sqlConnect import sqlConnection,sqlDisconnection,sqlInsert,createTable\n",
    "from mysql.dataHandler import api_transfer_sql,sqlColumn\n",
    "def testApiSql():\n",
    "    ##从API拿数据\n",
    "    init_api_client()\n",
    "    res_a=get_batch_player(0,5)\n",
    "    \n",
    "    ##写入MySQL\n",
    "    cur=sqlConnection()\n",
    "    \n",
    "    #建表\n",
    "    createTable(\"player_test\",res_a,True)\n",
    "    \n",
    "    #将API返回结果，转化成参数\n",
    "    param=api_transfer_sql(res_a)\n",
    "    #插入数据\n",
    "    str=sqlColumn(res_a)\n",
    "    sql=\"insert into player_test(\"+str[\"key\"]+\") values (\"+str[\"s\"]+\")\"\n",
    "    print (sql)\n",
    "    row=sqlInsert(sql,param)\n",
    "    print(\"插入数据\")\n",
    "    print(row)\n",
    "    \n",
    "    #关闭数据库\n",
    "    sqlDisconnection()"
   ]
  },
  {
   "cell_type": "markdown",
   "metadata": {},
   "source": [
    "## 用Web页面展示数据"
   ]
  },
  {
   "cell_type": "code",
   "execution_count": 5,
   "metadata": {},
   "outputs": [],
   "source": [
    "from gui.webPage import generate_web_page\n",
    "def testGui():\n",
    "    #展示API数据\n",
    "    init_api_client()\n",
    "    res=get_batch_player(0,40)\n",
    "    generate_web_page(\"testApi.html\",\"运动员数据\",\"api\", res)\n",
    "    print(res)\n",
    "    \n",
    "    #展示Sql数据\n",
    "    cur=sqlConnection()\n",
    "    data=sqlSelect(\"SELECT * FROM player WHERE nation=%s and position=%s limit 5\",[\"CN\",2])\n",
    "    column=columnName(\"player\")\n",
    "    res={\"data\":data,\"column\":column}\n",
    "    generate_web_page(\"testSql.html\",\"运动员数据\",\"sql\", res)"
   ]
  },
  {
   "cell_type": "markdown",
   "metadata": {},
   "source": [
    "## 读MySQL"
   ]
  },
  {
   "cell_type": "code",
   "execution_count": 6,
   "metadata": {},
   "outputs": [],
   "source": [
    "from mysql.sqlConnect import sqlConnection,sqlDisconnection,sqlSelect,columnName\n",
    "def testSql():\n",
    "    #初始化数据库\n",
    "    cur=sqlConnection()\n",
    "    \n",
    "    #查询列名\n",
    "    res=columnName(\"player\")\n",
    "    print(\"查询列名\")\n",
    "    print(res)\n",
    "    \n",
    "    #查询数据\n",
    "    #res=sqlSelect(\"SELECT * FROM player WHERE nation=%s and position=%s limit 5\",[\"CN\",2])\n",
    "    res=sqlSelect(\"SELECT count(*) FROM information_schema.TABLES WHERE table_name=%s\",\"player\")\n",
    "    print(\"查询数据=\")\n",
    "    print(res)\n",
    "    \n",
    "    #关闭数据库\n",
    "    sqlDisconnection()"
   ]
  },
  {
   "cell_type": "markdown",
   "metadata": {},
   "source": [
    "## 当需要获取的数据量较大时（超过API上限），分批获取并且插入数据库"
   ]
  },
  {
   "cell_type": "markdown",
   "metadata": {},
   "source": [
    "测试到10,000的数据量"
   ]
  },
  {
   "cell_type": "code",
   "execution_count": 7,
   "metadata": {},
   "outputs": [],
   "source": [
    "from sync.syncTrans import sync_match\n",
    "#sync_match(\"2020-1-1 00:00:00\",10000)"
   ]
  },
  {
   "cell_type": "code",
   "execution_count": 8,
   "metadata": {},
   "outputs": [
    {
     "name": "stdout",
     "output_type": "stream",
     "text": [
      "查询赛事列表\n",
      "{'retcode': 200, 'data': [{'is_integral_league': False, 'league_name': 'ESL One 洛杉矶 Major 2020线上赛', 'organizer': 'ESL', 'start_time': 1585324800, 'end_time': 1586880000, 'version': '', 'prize_poll': '', 'league_abbr': 'ESL One 洛杉矶 Major 线上赛', 'league_name_en': 'ESL One Los Angeles Major 2020- Online', 'league_abbr_en': 'ESL One Los Angeles Major- Online', 'league_organize_en': '', 'league_type': 0, 'integral': 0, 'league_id': 11823, 'v_league_id': 'D001842'}]}\n",
      "查询赛事详情\n",
      "{'retcode': 200, 'data': {'league_name': 'ESL One 洛杉矶 Major 2020线上赛', 'organizer': 'ESL', 'version': '', 'prize_poll': '', 'league_abbr': 'ESL One 洛杉矶 Major 线上赛', 'league_en_name': 'ESL One Los Angeles Major 2020- Online', 'league_en_abbr': 'ESL One Los Angeles Major- Online', 'league_en_organizer': 'ESL', 'integral': 0, 'win_teams': [], 'league_id': 11823, 'is_integral_league': False, 'v_league_id': 'D001842', 'venue': '线上', 'league_type': 0, 'start_time': 1585353600, 'end_time': 1586908800}}\n",
      "联赛队伍列表\n",
      "{'retcode': 200, 'data': {'invite_teams': [{'id': 15, 'Name': 'PSG.LGD'}, {'id': 726228, 'Name': 'VG'}, {'id': 5, 'Name': 'iG'}, {'id': 1375614, 'Name': 'NB'}, {'id': 4, 'Name': 'EHOME'}, {'id': 39, 'Name': 'EG'}, {'id': 111474, 'Name': 'Alliance'}, {'id': 2586976, 'Name': 'OG'}, {'id': 1883502, 'Name': 'VP'}, {'id': 1838315, 'Name': 'Secret'}, {'id': 350190, 'Name': 'Fnatic'}, {'id': 2163, 'Name': 'Liquid'}, {'id': 36, 'Name': 'NaVi'}, {'id': 7119388, 'Name': 'TSpirit'}, {'id': 6209143, 'Name': 'Gambit'}, {'id': 6382242, 'Name': 'TP'}, {'id': 7422789, 'Name': 'HR'}, {'id': 3586078, 'Name': 'Geek Fam'}, {'id': 7732977, 'Name': 'BOOM Esports'}, {'id': 7806386, 'Name': 'Quincy Crew'}, {'id': 7441136, 'Name': 'bc'}, {'id': 6214973, 'Name': 'NiP'}, {'id': 6209804, 'Name': 'RNG'}, {'id': 7098928, 'Name': 'adroit'}, {'id': 7220281, 'Name': 'FURIA'}, {'id': 7748744, 'Name': 'CR4ZY'}, {'id': 6685591, 'Name': 'ViKin.gg'}, {'id': 7298091, 'Name': 'NoPing e-sports'}, {'id': 7820540, 'Name': 'Unique'}, {'id': 7470317, 'Name': 'Gentlemen'}, {'id': 7554697, 'Name': 'Nigma'}, {'id': 7553952, 'Name': 'Chicken Fighters'}, {'id': 7669103, 'Name': 'Cyber Legacy'}, {'id': 7684041, 'Name': 'B8'}, {'id': 7681441, 'Name': 'business associates'}], 'promoted_teams': []}}\n"
     ]
    }
   ],
   "source": [
    "if __name__ == \"__main__\":\n",
    "    #testApiBasic()\n",
    "    testApiLeague()\n",
    "    #testApi()\n",
    "    #testApiSql()\n",
    "    #testGui()\n",
    "    #testSql()"
   ]
  }
 ],
 "metadata": {
  "kernelspec": {
   "display_name": "Python 3",
   "language": "python",
   "name": "python3"
  },
  "language_info": {
   "codemirror_mode": {
    "name": "ipython",
    "version": 3
   },
   "file_extension": ".py",
   "mimetype": "text/x-python",
   "name": "python",
   "nbconvert_exporter": "python",
   "pygments_lexer": "ipython3",
   "version": "3.7.7"
  }
 },
 "nbformat": 4,
 "nbformat_minor": 4
}
