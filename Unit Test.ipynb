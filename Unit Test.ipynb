{
 "cells": [
  {
   "cell_type": "markdown",
   "metadata": {},
   "source": [
    "# 此文件用于单元测试，以及展示函数用法"
   ]
  },
  {
   "cell_type": "markdown",
   "metadata": {},
   "source": [
    "## 使用API获取fundata数据"
   ]
  },
  {
   "cell_type": "code",
   "execution_count": 46,
   "metadata": {},
   "outputs": [],
   "source": [
    "from fundata.client import init_api_client\n",
    "from fundata.dota2.match import get_batch_basic_info, get_single_basic_info\n",
    "from fundata.dota2.player.player_info import get_batch_player\n",
    "from fundata.dota2.player.player_detail import get_player_detail_stats,get_player_data_status\n",
    "def testApi():\n",
    "    #初始化\n",
    "    init_api_client()\n",
    "    \n",
    "    #根据比赛ID查询比赛信息\n",
    "    res = get_single_basic_info(3766730668)\n",
    "    print(\"根据比赛ID查询比赛信息\")\n",
    "    print(res)\n",
    "    \n",
    "    #根据时间查询比赛信息\n",
    "    res=res=get_batch_basic_info(1577808000,0,5)\n",
    "    print(\"根据时间查询比赛信息\")\n",
    "    print(res)\n",
    "    \n",
    "    #查询选手信息\n",
    "    res=get_batch_player(0,5)\n",
    "    print(\"查询选手信息\")\n",
    "    print(res)\n",
    "    \n",
    "    #根据选手ID查看分析数据状态\n",
    "    res=res=get_player_data_status(80929738)\n",
    "    print(\"根据选手ID查看分析数据状态\")\n",
    "    print(res)\n",
    "    \n",
    "    #根据选手ID查看分析数据\n",
    "    res=get_player_detail_stats(80929738)\n",
    "    print(\"根据选手ID查看分析数据状态\")\n",
    "    print(res)"
   ]
  },
  {
   "cell_type": "markdown",
   "metadata": {},
   "source": [
    "## 读MySQL"
   ]
  },
  {
   "cell_type": "code",
   "execution_count": 47,
   "metadata": {},
   "outputs": [],
   "source": [
    "from mysql.sqlConnect import sqlConnection,sqlDisconnection,sqlSelect,columnName\n",
    "def testSql():\n",
    "    #初始化数据库\n",
    "    cur=sqlConnection()\n",
    "    \n",
    "    #查询列名\n",
    "    res=columnName(\"player\")\n",
    "    print(\"查询列名\")\n",
    "    print(res)\n",
    "    \n",
    "    #查询数据\n",
    "    res=sqlSelect(\"SELECT * FROM player WHERE nation=%s and position=%s limit 5\",[\"CN\",2])\n",
    "    print(\"查询数据\")\n",
    "    print(res)\n",
    "    \n",
    "    #关闭数据库\n",
    "    sqlDisconnection()"
   ]
  },
  {
   "cell_type": "markdown",
   "metadata": {},
   "source": [
    "## 写MySQL"
   ]
  },
  {
   "cell_type": "code",
   "execution_count": 48,
   "metadata": {},
   "outputs": [],
   "source": [
    "from mysql.sqlConnect import sqlConnection,sqlDisconnection,sqlInsert\n",
    "from mysql.dataHandler import api_transfer_sql\n",
    "def testApiSql():\n",
    "    ##从API拿数据\n",
    "    init_api_client()\n",
    "    res_a=get_batch_player(0,5)\n",
    "    \n",
    "    ##写入MySQL\n",
    "    cur=sqlConnection()\n",
    "    #将API返回结果，转化成参数\n",
    "    param=api_transfer_sql(res_a)\n",
    "    #插入数据\n",
    "    row=sqlInsert(\"insert into player(id, real_name, name, nation, position) values (%s, %s, %s, %s, %s)\",param)\n",
    "    print(\"插入数据\")\n",
    "    print(row)\n",
    "    \n",
    "    #关闭数据库\n",
    "    sqlDisconnection()"
   ]
  },
  {
   "cell_type": "markdown",
   "metadata": {},
   "source": [
    "## 用Web页面展示数据"
   ]
  },
  {
   "cell_type": "code",
   "execution_count": 49,
   "metadata": {},
   "outputs": [],
   "source": [
    "from gui.webPage import generate_web_page\n",
    "def testGui():\n",
    "    #展示API数据\n",
    "    init_api_client()\n",
    "    res=get_batch_player(0,16)\n",
    "    generate_web_page(\"testApi.html\",\"运动员数据\",\"api\", res)\n",
    "    print(res)\n",
    "    \n",
    "    #展示Sql数据\n",
    "    cur=sqlConnection()\n",
    "    data=sqlSelect(\"SELECT * FROM player WHERE nation=%s and position=%s limit 5\",[\"CN\",2])\n",
    "    column=columnName(\"player\")\n",
    "    res={\"data\":data,\"column\":column}\n",
    "    generate_web_page(\"testSql.html\",\"运动员数据\",\"sql\", res)"
   ]
  },
  {
   "cell_type": "code",
   "execution_count": 50,
   "metadata": {},
   "outputs": [
    {
     "name": "stdout",
     "output_type": "stream",
     "text": [
      "{'retcode': 200, 'data': [{'id': 126271070, 'real_name': 'Lu Yao 路垚', 'name': 'SoMnus丶M', 'nation': 'CN', 'position': 2}, {'id': 101695162, 'real_name': 'Xu Linsen 徐林森', 'name': 'FY', 'nation': 'CN', 'position': 4}, {'id': 131043881, 'real_name': 'Xiao Zuoyi', 'name': 'RAI', 'nation': 'CN', 'position': 4}, {'id': 116835433, 'real_name': '', 'name': 'Syc', 'nation': 'CN', 'position': 4}, {'id': 137273293, 'real_name': '陈英东', 'name': 'Adong', 'nation': 'China', 'position': 5}, {'id': 103755869, 'real_name': 'Zhang Hangqi', 'name': 'MelodyLovers', 'nation': 'China', 'position': 5}, {'id': 117891932, 'real_name': 'Adi Syofian Asyauri', 'name': 'Acil', 'nation': 'ID', 'position': 5}, {'id': 104888934, 'real_name': 'Azam Aljabar Nafari', 'name': 'Nafari ', 'nation': 'ID', 'position': 5}, {'id': 132572732, 'real_name': '', 'name': '美好', 'nation': 'CN', 'position': 3}, {'id': 86780673, 'real_name': 'Yang Liang Ying', 'name': 'yaNG', 'nation': 'MY', 'position': 4}, {'id': 113272381, 'real_name': 'Enkh-Od Nergui', 'name': 'SANKE', 'nation': 'CN', 'position': 5}, {'id': 86817707, 'real_name': '', 'name': 'Ascendancy', 'nation': 'CN', 'position': 1}, {'id': 118134220, 'real_name': 'Zhang Ruida', 'name': 'Faith_bian', 'nation': 'CN', 'position': 3}, {'id': 40788865, 'real_name': '', 'name': 'FKING PIG', 'nation': 'CN', 'position': 4}, {'id': 102024536, 'real_name': 'Long Zhan', 'name': 'balloon', 'nation': 'CN', 'position': 5}, {'id': 80929738, 'real_name': '王昕', 'name': 'Wang Xin', 'nation': 'China', 'position': 2}]}\n",
      "success: effect row: 1\n",
      "success: effect row: 5\n"
     ]
    }
   ],
   "source": [
    "if __name__ == \"__main__\":\n",
    "    #testApi()\n",
    "    #testApiSql()\n",
    "    testGui()"
   ]
  },
  {
   "cell_type": "code",
   "execution_count": null,
   "metadata": {},
   "outputs": [],
   "source": []
  }
 ],
 "metadata": {
  "kernelspec": {
   "display_name": "Python 3",
   "language": "python",
   "name": "python3"
  },
  "language_info": {
   "codemirror_mode": {
    "name": "ipython",
    "version": 3
   },
   "file_extension": ".py",
   "mimetype": "text/x-python",
   "name": "python",
   "nbconvert_exporter": "python",
   "pygments_lexer": "ipython3",
   "version": "3.7.7"
  }
 },
 "nbformat": 4,
 "nbformat_minor": 4
}
