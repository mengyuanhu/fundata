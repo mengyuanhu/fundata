{
 "cells": [
  {
   "cell_type": "code",
   "execution_count": 48,
   "metadata": {},
   "outputs": [
    {
     "ename": "SyntaxError",
     "evalue": "trailing comma not allowed without surrounding parentheses (<ipython-input-48-f5cacbd11be1>, line 12)",
     "output_type": "error",
     "traceback": [
      "\u001b[1;36m  File \u001b[1;32m\"<ipython-input-48-f5cacbd11be1>\"\u001b[1;36m, line \u001b[1;32m12\u001b[0m\n\u001b[1;33m    from fundata.dota2.player.player_detail import get_player_detail_stats,\u001b[0m\n\u001b[1;37m                                                  ^\u001b[0m\n\u001b[1;31mSyntaxError\u001b[0m\u001b[1;31m:\u001b[0m trailing comma not allowed without surrounding parentheses\n"
     ]
    }
   ],
   "source": [
    "import os\n",
    "import sys\n",
    "import time\n",
    "from pprint import pprint\n",
    "from fundata.request import ApiClient\n",
    "from fundata.client import init_api_client\n",
    "\n",
    "#unit test api\n",
    "from fundata.dota2.match import get_batch_basic_info\n",
    "from fundata.dota2.match import get_single_basic_info\n",
    "from fundata.dota2.player.player_info import get_batch_player\n",
    "from fundata.dota2.player.player_detail import get_player_detail_stats,\n",
    "#unit test mysql\n",
    "from mysql.sqlConnect import sqlConnection,sqlDisconnection,sqlSelect, sqlInsert\n",
    "from mysql.dataHandler import api_transfer_sql"
   ]
  },
  {
   "cell_type": "code",
   "execution_count": 51,
   "metadata": {},
   "outputs": [
    {
     "ename": "SyntaxError",
     "evalue": "invalid syntax (<ipython-input-51-5387cd7bfa54>, line 4)",
     "output_type": "error",
     "traceback": [
      "\u001b[1;36m  File \u001b[1;32m\"<ipython-input-51-5387cd7bfa54>\"\u001b[1;36m, line \u001b[1;32m4\u001b[0m\n\u001b[1;33m    find one=106863163\u001b[0m\n\u001b[1;37m           ^\u001b[0m\n\u001b[1;31mSyntaxError\u001b[0m\u001b[1;31m:\u001b[0m invalid syntax\n"
     ]
    }
   ],
   "source": [
    "cur=sqlConnection()\n",
    "res=sqlSelect(\"SELECT id FROM player WHERE name<>%s limit 10\",\"x\")\n",
    "res[0]\n",
    "find one=106863163\n",
    "find one=101695162\n",
    "find one=131043881"
   ]
  },
  {
   "cell_type": "code",
   "execution_count": 50,
   "metadata": {},
   "outputs": [
    {
     "name": "stdout",
     "output_type": "stream",
     "text": [
      "init <fundata.request.ApiClient object at 0x00000242A1266F08>\n",
      "player_id=101695162 has no data\n"
     ]
    },
    {
     "data": {
      "text/plain": [
       "0"
      ]
     },
     "execution_count": 50,
     "metadata": {},
     "output_type": "execute_result"
    }
   ],
   "source": [
    "init_api_client()\n",
    "#get_player_data_status(106863163)\n",
    "get_player_detail_stats(101695162)"
   ]
  },
  {
   "cell_type": "code",
   "execution_count": null,
   "metadata": {},
   "outputs": [],
   "source": [
    "res={\n",
    "  \"retcode\": 200,\n",
    "  \"data\": {\n",
    "    \"player_id\": 311360822,\n",
    "    \"status\": 2\n",
    "  }\n",
    "}\n",
    "res[\"retcode\"]\n",
    "res[\"data\"][\"status\"]"
   ]
  }
 ],
 "metadata": {
  "kernelspec": {
   "display_name": "Python 3",
   "language": "python",
   "name": "python3"
  },
  "language_info": {
   "codemirror_mode": {
    "name": "ipython",
    "version": 3
   },
   "file_extension": ".py",
   "mimetype": "text/x-python",
   "name": "python",
   "nbconvert_exporter": "python",
   "pygments_lexer": "ipython3",
   "version": "3.7.7"
  }
 },
 "nbformat": 4,
 "nbformat_minor": 4
}
