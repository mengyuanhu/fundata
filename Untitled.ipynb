{
 "cells": [
  {
   "cell_type": "code",
   "execution_count": 26,
   "metadata": {},
   "outputs": [
    {
     "name": "stdout",
     "output_type": "stream",
     "text": [
      "lenth=2,last matchID=5353639172\n",
      "{'retcode': 200, 'data': [{'barracks_status_dire': 63, 'barracks_status_radiant': 0, 'cluster': 182, 'dire_score': 28, 'duration': 2011, 'engine': 1, 'first_blood_time': 147, 'flags': 0, 'game_mode': 22, 'human_players': 10, 'league_id': 0, 'lobby_type': 0, 'match_id': 5353639145, 'match_seq_num': 4489331312, 'negative_votes': 0, 'positive_votes': 0, 'pre_game_duration': 90, 'radiant_score': 14, 'radiant_win': False, 'start_time': 1586793600, 'tower_status_dire': 1972, 'tower_status_radiant': 0, 'season': '', 'skill': 1}, {'barracks_status_dire': 60, 'barracks_status_radiant': 63, 'cluster': 225, 'dire_score': 33, 'duration': 2432, 'engine': 1, 'first_blood_time': 191, 'flags': 0, 'game_mode': 22, 'human_players': 10, 'league_id': 0, 'lobby_type': 0, 'match_id': 5353639172, 'match_seq_num': 4489341930, 'negative_votes': 0, 'positive_votes': 0, 'pre_game_duration': 90, 'radiant_score': 43, 'radiant_win': True, 'start_time': 1586793600, 'tower_status_dire': 416, 'tower_status_radiant': 1830, 'season': '', 'skill': 0}]}\n"
     ]
    }
   ],
   "source": [
    "from fundata.client import init_api_client\n",
    "from fundata.dota2.match.match import *\n",
    "   #初始化\n",
    "init_api_client()\n",
    "        \n",
    "res=get_batch_basic_info(1586793600,5353639144,2)\n",
    "count=len(res[\"data\"])\n",
    "print(\"lenth=%s,last matchID=%s\"%(count,res[\"data\"][count-1][\"match_id\"]))\n",
    "print(res)"
   ]
  },
  {
   "cell_type": "code",
   "execution_count": 13,
   "metadata": {},
   "outputs": [
    {
     "data": {
      "text/plain": [
       "5353639176"
      ]
     },
     "execution_count": 13,
     "metadata": {},
     "output_type": "execute_result"
    }
   ],
   "source": [
    "res[\"data\"][][\"match_id\"]"
   ]
  },
  {
   "cell_type": "code",
   "execution_count": 15,
   "metadata": {},
   "outputs": [
    {
     "data": {
      "text/plain": [
       "11"
      ]
     },
     "execution_count": 15,
     "metadata": {},
     "output_type": "execute_result"
    }
   ],
   "source": [
    "len(res[\"data\"])"
   ]
  }
 ],
 "metadata": {
  "kernelspec": {
   "display_name": "Python 3",
   "language": "python",
   "name": "python3"
  },
  "language_info": {
   "codemirror_mode": {
    "name": "ipython",
    "version": 3
   },
   "file_extension": ".py",
   "mimetype": "text/x-python",
   "name": "python",
   "nbconvert_exporter": "python",
   "pygments_lexer": "ipython3",
   "version": "3.7.7"
  }
 },
 "nbformat": 4,
 "nbformat_minor": 4
}
